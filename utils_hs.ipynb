{
  "nbformat": 4,
  "nbformat_minor": 0,
  "metadata": {
    "colab": {
      "provenance": [],
      "authorship_tag": "ABX9TyPMnGbcQQ6o9G4BE4VPZyh/",
      "include_colab_link": true
    },
    "kernelspec": {
      "name": "python3",
      "display_name": "Python 3"
    },
    "language_info": {
      "name": "python"
    }
  },
  "cells": [
    {
      "cell_type": "markdown",
      "metadata": {
        "id": "view-in-github",
        "colab_type": "text"
      },
      "source": [
        "<a href=\"https://colab.research.google.com/github/philliewright/Hatespeech_CW2/blob/main/utils_hs.ipynb\" target=\"_parent\"><img src=\"https://colab.research.google.com/assets/colab-badge.svg\" alt=\"Open In Colab\"/></a>"
      ]
    },
    {
      "cell_type": "code",
      "execution_count": 22,
      "metadata": {
        "colab": {
          "base_uri": "https://localhost:8080/"
        },
        "id": "I2JCVS6SXLdq",
        "outputId": "76b0ff16-3ac6-4864-ed75-1e4964c9e0a9"
      },
      "outputs": [
        {
          "output_type": "stream",
          "name": "stdout",
          "text": [
            "Overwriting /content/drive/My Drive/Projects_Portfolio/hatespeech_detection/utils_hs.py\n"
          ]
        }
      ],
      "source": [
        "%%writefile \"/content/drive/My Drive/Projects_Portfolio/hatespeech_detection/utils_hs.py\"\n",
        "\n",
        "import pandas as pd\n",
        "\n",
        "from google.colab import drive\n",
        "drive.mount('/content/drive')\n",
        "\n",
        "def load_csv(file_path):\n",
        "    try:\n",
        "        data = pd.read_csv(file_path)\n",
        "        if data.empty:\n",
        "            raise ValueError(\"The CSV file is empty\")\n",
        "        return data\n",
        "    except FileNotFoundError:\n",
        "        raise FileNotFoundError(\"The specified file does not exist\")\n",
        "    except Exception as e:\n",
        "        raise Exception(f\"An unknown error occurred: {e}\")\n",
        "\n",
        "def report_missing_values(data):\n",
        "    \"\"\" Checks for missing values\"\"\"\n",
        "    missing_values = data.isnull().sum()\n",
        "    print(\"Missing values in each column:\")\n",
        "    for column, missing_value_count in missing_values.items():\n",
        "        print(f\"{column}: {missing_value_count}\")\n"
      ]
    },
    {
      "cell_type": "code",
      "source": [
        "\n"
      ],
      "metadata": {
        "colab": {
          "base_uri": "https://localhost:8080/"
        },
        "id": "r4r19X1ibqc9",
        "outputId": "d32b7465-d742-4970-9ae5-80069922c70d"
      },
      "execution_count": 17,
      "outputs": [
        {
          "output_type": "stream",
          "name": "stdout",
          "text": [
            "Drive already mounted at /content/drive; to attempt to forcibly remount, call drive.mount(\"/content/drive\", force_remount=True).\n"
          ]
        }
      ]
    },
    {
      "cell_type": "code",
      "source": [],
      "metadata": {
        "id": "JsSZwZYOaSTI"
      },
      "execution_count": 19,
      "outputs": []
    }
  ]
}