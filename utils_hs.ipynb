{
  "nbformat": 4,
  "nbformat_minor": 0,
  "metadata": {
    "colab": {
      "provenance": [],
      "authorship_tag": "ABX9TyNGOnarYec6kpiR+1r1rgyt",
      "include_colab_link": true
    },
    "kernelspec": {
      "name": "python3",
      "display_name": "Python 3"
    },
    "language_info": {
      "name": "python"
    }
  },
  "cells": [
    {
      "cell_type": "markdown",
      "metadata": {
        "id": "view-in-github",
        "colab_type": "text"
      },
      "source": [
        "<a href=\"https://colab.research.google.com/github/philliewright/Hatespeech_CW2/blob/main/utils_hs.ipynb\" target=\"_parent\"><img src=\"https://colab.research.google.com/assets/colab-badge.svg\" alt=\"Open In Colab\"/></a>"
      ]
    },
    {
      "cell_type": "code",
      "execution_count": null,
      "metadata": {
        "id": "I2JCVS6SXLdq"
      },
      "outputs": [],
      "source": [
        "%%writefile hatespeech_utils.py\n",
        "\n",
        "def load_csv(file_path):\n",
        "    try:\n",
        "        data = pd.read_csv(file_path)\n",
        "        if data.empty:\n",
        "            raise ValueError(\"The CSV file is empty\")\n",
        "        return data\n",
        "    except FileNotFoundError:\n",
        "        raise FileNotFoundError(\"The specified file does not exist\")\n",
        "    except Exception as e:\n",
        "        raise Exception(f\"An unknown error occurred: {e}\")\n",
        ""
      ]
    }
  ]
}